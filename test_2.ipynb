Copywrite by CJS
{
 "cells": [
  {
   "cell_type": "code",
   "execution_count": null,
   "metadata": {},
   "outputs": [
    {
     "name": "stdout",
     "output_type": "stream",
     "text": [
      "20250407\n",
      "1000\n",
      "['PTY', 'REH', 'RN1', 'T1H', 'UUU', 'VEC', 'VVV', 'WSD']\n",
      "69\n",
      "107\n",
      "['0', '25', '0', '14.6', '0.6', '310', '-0.4', '0.8']\n"
     ]
    }
   ],
   "source": [
    "import requests\n",
    "import json\n",
    "import pandas as pd\n",
    "# from pandas import json_normalize\n",
    "\n",
    "\n",
    "url = 'http://apis.data.go.kr/1360000/VilageFcstInfoService_2.0/getUltraSrtNcst'\n",
    "params ={'serviceKey' : '사용자키키', 'pageNo' : '1', 'numOfRows' : '0600', 'dataType' : 'JSON', 'base_date' : '20250407', 'base_time' : '1000', 'nx' : '69', 'ny' : '107' }\n",
    "\n",
    "response = requests.get(url, params=params)\n",
    "# pp = pprint.PrettyPrinter(indent=4)\n",
    "cont = response.text\n",
    "json_txt = json.loads(cont)\n",
    "test = json_txt['response']['body']['items']['item']\n",
    "# print(type(test))\n",
    "# print(test)\n",
    "\n",
    "category = []\n",
    "obsrValue = []\n",
    "\n",
    "for i in range(len(test)):\n",
    "    baseDate = test[i]['baseDate']\n",
    "    baseTime = test[i]['baseTime']\n",
    "    category.append(test[i]['category'])\n",
    "    nx = test[i]['nx']\n",
    "    ny = test[i]['ny']\n",
    "    obsrValue.append(test[i]['obsrValue'])\n",
    "\n",
    "print(baseDate)\n",
    "print(baseTime)\n",
    "print(category)\n",
    "print(nx)\n",
    "print(ny)\n",
    "print(obsrValue)\n"
   ]
  }
 ],
 "metadata": {
  "kernelspec": {
   "display_name": "Python 3",
   "language": "python",
   "name": "python3"
  },
  "language_info": {
   "codemirror_mode": {
    "name": "ipython",
    "version": 3
   },
   "file_extension": ".py",
   "mimetype": "text/x-python",
   "name": "python",
   "nbconvert_exporter": "python",
   "pygments_lexer": "ipython3",
   "version": "3.13.2"
  }
 },
 "nbformat": 4,
 "nbformat_minor": 2
}
